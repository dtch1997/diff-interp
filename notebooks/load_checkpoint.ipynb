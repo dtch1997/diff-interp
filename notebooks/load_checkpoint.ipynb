{
 "cells": [
  {
   "cell_type": "code",
   "execution_count": 1,
   "metadata": {},
   "outputs": [
    {
     "name": "stderr",
     "output_type": "stream",
     "text": [
      "/home/daniel/ml_workspace/diff-interp/.venv/lib/python3.11/site-packages/tqdm/auto.py:21: TqdmWarning: IProgress not found. Please update jupyter and ipywidgets. See https://ipywidgets.readthedocs.io/en/stable/user_install.html\n",
      "  from .autonotebook import tqdm as notebook_tqdm\n",
      "Some weights of ViTForImageClassification were not initialized from the model checkpoint at google/vit-base-patch16-224-in21k and are newly initialized: ['classifier.bias', 'classifier.weight']\n",
      "You should probably TRAIN this model on a down-stream task to be able to use it for predictions and inference.\n"
     ]
    }
   ],
   "source": [
    "from diff_interp.vit_model import ViTModel\n",
    "from diff_interp.variables import PROJECT_DIR\n",
    "\n",
    "model = ViTModel.load_from_checkpoint(PROJECT_DIR / \"lightning_logs\" / \"train_1\" / \"checkpoints\" / \"epoch=29-step=19080.ckpt\")"
   ]
  },
  {
   "cell_type": "code",
   "execution_count": 11,
   "metadata": {},
   "outputs": [],
   "source": [
    "from diff_interp.celeba_data_module import CelebADataModule\n",
    "\n",
    "dm = CelebADataModule(256)\n",
    "dm.setup()\n"
   ]
  },
  {
   "cell_type": "code",
   "execution_count": 15,
   "metadata": {},
   "outputs": [
    {
     "name": "stdout",
     "output_type": "stream",
     "text": [
      "val_loss tensor(0.2365, device='cuda:0')\n",
      "val_accuracy tensor(0.8983, device='cuda:0')\n"
     ]
    }
   ],
   "source": [
    "# Evaluate the checkpoint\n",
    "import torch\n",
    "\n",
    "model.eval()\n",
    "# Monkey patch the model to print the loss\n",
    "model.log = print\n",
    "with torch.no_grad():\n",
    "    for batch in dm.val_dataloader():\n",
    "        x, y = batch\n",
    "        x = x.to(model.device)\n",
    "        y = y.to(model.device)\n",
    "        batch = (x, y)\n",
    "        model.validation_step(batch, 0)\n",
    "        break\n",
    "\n",
    "\n",
    "# Val accuracy should be around 0.9\n",
    "\n"
   ]
  }
 ],
 "metadata": {
  "kernelspec": {
   "display_name": ".venv",
   "language": "python",
   "name": "python3"
  },
  "language_info": {
   "codemirror_mode": {
    "name": "ipython",
    "version": 3
   },
   "file_extension": ".py",
   "mimetype": "text/x-python",
   "name": "python",
   "nbconvert_exporter": "python",
   "pygments_lexer": "ipython3",
   "version": "3.11.9"
  }
 },
 "nbformat": 4,
 "nbformat_minor": 2
}
